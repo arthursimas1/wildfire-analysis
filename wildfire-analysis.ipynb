{
 "cells": [
  {
   "cell_type": "markdown",
   "metadata": {
    "tags": []
   },
   "source": [
    "# Wildfire Analysis\n",
    "\n",
    "In this Jupyter Notebook we present an analysis of brazilian wildfires.\n",
    "\n",
    "First, we import all needed libraries and declare some defined values."
   ]
  },
  {
   "cell_type": "code",
   "execution_count": 1,
   "metadata": {},
   "outputs": [],
   "source": [
    "import random\n",
    "import os\n",
    "from os import listdir\n",
    "\n",
    "import pyspark\n",
    "from pyspark.context import SparkContext\n",
    "from pyspark.sql import SparkSession, SQLContext\n",
    "from pyspark.sql.types import *\n",
    "from pyspark.sql.functions import col, asc, desc\n",
    "\n",
    "from ipywidgets import interact, widgets\n",
    "\n",
    "DATA_PATH = './data'\n",
    "DATA_FILE = './data.zip'\n",
    "KUDU_MASTER = 'kudu-master-1:7051'\n",
    "KUDU_TABLE = 'impala::default.queimada'"
   ]
  },
  {
   "cell_type": "markdown",
   "metadata": {},
   "source": [
    "Importing the `Kudu-Spark` connector from Cloudera."
   ]
  },
  {
   "cell_type": "code",
   "execution_count": 2,
   "metadata": {},
   "outputs": [],
   "source": [
    "os.environ['PYSPARK_SUBMIT_ARGS'] = f'--packages org.apache.kudu:kudu-spark3_2.12:1.13.0.7.1.5.17-1 --repositories https://repository.cloudera.com/artifactory/cloudera-repos/ pyspark-shell'"
   ]
  },
  {
   "cell_type": "markdown",
   "metadata": {},
   "source": [
    "Initializing *Spark*."
   ]
  },
  {
   "cell_type": "code",
   "execution_count": 3,
   "metadata": {},
   "outputs": [
    {
     "name": "stderr",
     "output_type": "stream",
     "text": [
      "WARNING: An illegal reflective access operation has occurred\n",
      "WARNING: Illegal reflective access by org.apache.spark.unsafe.Platform (file:/usr/local/spark-3.1.2-bin-hadoop3.2/jars/spark-unsafe_2.12-3.1.2.jar) to constructor java.nio.DirectByteBuffer(long,int)\n",
      "WARNING: Please consider reporting this to the maintainers of org.apache.spark.unsafe.Platform\n",
      "WARNING: Use --illegal-access=warn to enable warnings of further illegal reflective access operations\n",
      "WARNING: All illegal access operations will be denied in a future release\n",
      "https://repository.cloudera.com/artifactory/cloudera-repos/ added as a remote repository with the name: repo-1\n"
     ]
    },
    {
     "name": "stdout",
     "output_type": "stream",
     "text": [
      ":: loading settings :: url = jar:file:/usr/local/spark-3.1.2-bin-hadoop3.2/jars/ivy-2.4.0.jar!/org/apache/ivy/core/settings/ivysettings.xml\n"
     ]
    },
    {
     "name": "stderr",
     "output_type": "stream",
     "text": [
      "Ivy Default Cache set to: /home/jovyan/.ivy2/cache\n",
      "The jars for the packages stored in: /home/jovyan/.ivy2/jars\n",
      "org.apache.kudu#kudu-spark3_2.12 added as a dependency\n",
      ":: resolving dependencies :: org.apache.spark#spark-submit-parent-49502993-9f6f-4c7d-ac95-d8b4c96a8b95;1.0\n",
      "\tconfs: [default]\n",
      "\tfound org.apache.kudu#kudu-spark3_2.12;1.13.0.7.1.5.17-1 in repo-1\n",
      ":: resolution report :: resolve 443ms :: artifacts dl 12ms\n",
      "\t:: modules in use:\n",
      "\torg.apache.kudu#kudu-spark3_2.12;1.13.0.7.1.5.17-1 from repo-1 in [default]\n",
      "\t---------------------------------------------------------------------\n",
      "\t|                  |            modules            ||   artifacts   |\n",
      "\t|       conf       | number| search|dwnlded|evicted|| number|dwnlded|\n",
      "\t---------------------------------------------------------------------\n",
      "\t|      default     |   1   |   0   |   0   |   0   ||   1   |   0   |\n",
      "\t---------------------------------------------------------------------\n",
      ":: retrieving :: org.apache.spark#spark-submit-parent-49502993-9f6f-4c7d-ac95-d8b4c96a8b95\n",
      "\tconfs: [default]\n",
      "\t0 artifacts copied, 1 already retrieved (0kB/29ms)\n",
      "21/10/06 02:54:12 WARN NativeCodeLoader: Unable to load native-hadoop library for your platform... using builtin-java classes where applicable\n",
      "Using Spark's default log4j profile: org/apache/spark/log4j-defaults.properties\n",
      "Setting default log level to \"WARN\".\n",
      "To adjust logging level use sc.setLogLevel(newLevel). For SparkR, use setLogLevel(newLevel).\n"
     ]
    }
   ],
   "source": [
    "spark = SparkSession.builder.config('spark.packages', 'org.apache.kudu:kudu-spark3_2.12:1.13.0.7.1.5.17-1').getOrCreate()\n",
    "sc = SparkContext.getOrCreate()\n",
    "sc.setLogLevel('OFF')"
   ]
  },
  {
   "cell_type": "markdown",
   "metadata": {},
   "source": [
    "Importing the Kudu datastore table."
   ]
  },
  {
   "cell_type": "code",
   "execution_count": 4,
   "metadata": {},
   "outputs": [],
   "source": [
    "kudu = spark.read.option('kudu.master', KUDU_MASTER).option('kudu.table', KUDU_TABLE).format('kudu').load()\n",
    "kudu.createOrReplaceTempView('queimada')"
   ]
  },
  {
   "cell_type": "markdown",
   "metadata": {},
   "source": [
    "Importing the data."
   ]
  },
  {
   "cell_type": "code",
   "execution_count": 5,
   "metadata": {},
   "outputs": [
    {
     "name": "stdout",
     "output_type": "stream",
     "text": [
      "Archive:  ./data.zip\n",
      "  inflating: ./data/Focos_2010-01-01_2010-12-31.csv  \n",
      "  inflating: ./data/Focos_2011-01-01_2011-12-31.csv  \n",
      "  inflating: ./data/Focos_2012-01-01_2012-12-31.csv  \n",
      "  inflating: ./data/Focos_2013-01-01_2013-12-31.csv  \n",
      "  inflating: ./data/Focos_2014-01-01_2014-12-31.csv  \n",
      "  inflating: ./data/Focos_2015-01-01_2015-12-31.csv  \n",
      "  inflating: ./data/Focos_2016-01-01_2016-12-31.csv  \n",
      "  inflating: ./data/Focos_2017-01-01_2017-12-31.csv  \n",
      "  inflating: ./data/Focos_2018-01-01_2018-12-31.csv  \n",
      "  inflating: ./data/Focos_2019-01-01_2019-12-31.csv  \n",
      "  inflating: ./data/Focos_2020-01-01_2020-12-31.csv  \n"
     ]
    }
   ],
   "source": [
    "!unzip {DATA_FILE} -d {DATA_PATH}"
   ]
  },
  {
   "cell_type": "code",
   "execution_count": 6,
   "metadata": {},
   "outputs": [
    {
     "name": "stdout",
     "output_type": "stream",
     "text": [
      "loading data files from ./data.zip\n",
      "... Focos_2010-01-01_2010-12-31.csv\n"
     ]
    },
    {
     "name": "stderr",
     "output_type": "stream",
     "text": [
      "                                                                                \r"
     ]
    },
    {
     "name": "stdout",
     "output_type": "stream",
     "text": [
      "... Focos_2011-01-01_2011-12-31.csv\n"
     ]
    },
    {
     "name": "stderr",
     "output_type": "stream",
     "text": [
      "                                                                                \r"
     ]
    },
    {
     "name": "stdout",
     "output_type": "stream",
     "text": [
      "... Focos_2012-01-01_2012-12-31.csv\n"
     ]
    },
    {
     "name": "stderr",
     "output_type": "stream",
     "text": [
      "                                                                                \r"
     ]
    },
    {
     "name": "stdout",
     "output_type": "stream",
     "text": [
      "... Focos_2013-01-01_2013-12-31.csv\n"
     ]
    },
    {
     "name": "stderr",
     "output_type": "stream",
     "text": [
      "                                                                                \r"
     ]
    },
    {
     "name": "stdout",
     "output_type": "stream",
     "text": [
      "... Focos_2014-01-01_2014-12-31.csv\n"
     ]
    },
    {
     "name": "stderr",
     "output_type": "stream",
     "text": [
      "                                                                                \r"
     ]
    },
    {
     "name": "stdout",
     "output_type": "stream",
     "text": [
      "... Focos_2015-01-01_2015-12-31.csv\n"
     ]
    },
    {
     "name": "stderr",
     "output_type": "stream",
     "text": [
      "                                                                                \r"
     ]
    },
    {
     "name": "stdout",
     "output_type": "stream",
     "text": [
      "... Focos_2016-01-01_2016-12-31.csv\n"
     ]
    },
    {
     "name": "stderr",
     "output_type": "stream",
     "text": [
      "                                                                                \r"
     ]
    },
    {
     "name": "stdout",
     "output_type": "stream",
     "text": [
      "... Focos_2017-01-01_2017-12-31.csv\n"
     ]
    },
    {
     "name": "stderr",
     "output_type": "stream",
     "text": [
      "                                                                                \r"
     ]
    },
    {
     "name": "stdout",
     "output_type": "stream",
     "text": [
      "... Focos_2018-01-01_2018-12-31.csv\n"
     ]
    },
    {
     "name": "stderr",
     "output_type": "stream",
     "text": [
      "                                                                                \r"
     ]
    },
    {
     "name": "stdout",
     "output_type": "stream",
     "text": [
      "... Focos_2019-01-01_2019-12-31.csv\n"
     ]
    },
    {
     "name": "stderr",
     "output_type": "stream",
     "text": [
      "                                                                                \r"
     ]
    },
    {
     "name": "stdout",
     "output_type": "stream",
     "text": [
      "... Focos_2020-01-01_2020-12-31.csv\n"
     ]
    },
    {
     "name": "stderr",
     "output_type": "stream",
     "text": [
      "[Stage 21:==============>                                           (1 + 3) / 4]\r"
     ]
    },
    {
     "name": "stdout",
     "output_type": "stream",
     "text": [
      "done\n"
     ]
    },
    {
     "name": "stderr",
     "output_type": "stream",
     "text": [
      "                                                                                \r"
     ]
    }
   ],
   "source": [
    "data = None\n",
    "\n",
    "print(f'loading data files from {DATA_FILE}')\n",
    "\n",
    "for file in listdir(DATA_PATH):\n",
    "    if not file.endswith('.csv'):\n",
    "        continue\n",
    "\n",
    "    print(f'... {file}')\n",
    "    tmp = spark.read.csv(f'{DATA_PATH}/{file}', header='true', inferSchema='true')\n",
    "    data = data.union(tmp) if data else tmp\n",
    "\n",
    "print('done')"
   ]
  },
  {
   "cell_type": "markdown",
   "metadata": {},
   "source": [
    "Printing the original table schema"
   ]
  },
  {
   "cell_type": "code",
   "execution_count": 7,
   "metadata": {},
   "outputs": [
    {
     "name": "stdout",
     "output_type": "stream",
     "text": [
      "root\n",
      " |-- datahora: string (nullable = true)\n",
      " |-- satelite: string (nullable = true)\n",
      " |-- pais: string (nullable = true)\n",
      " |-- estado: string (nullable = true)\n",
      " |-- municipio: string (nullable = true)\n",
      " |-- bioma: string (nullable = true)\n",
      " |-- diasemchuva: string (nullable = true)\n",
      " |-- precipitacao: string (nullable = true)\n",
      " |-- riscofogo: string (nullable = true)\n",
      " |-- latitude: double (nullable = true)\n",
      " |-- longitude: double (nullable = true)\n",
      " |-- frp: string (nullable = true)\n",
      "\n"
     ]
    }
   ],
   "source": [
    "data.printSchema()"
   ]
  },
  {
   "cell_type": "markdown",
   "metadata": {},
   "source": [
    "Changing columns to decimal type."
   ]
  },
  {
   "cell_type": "code",
   "execution_count": 8,
   "metadata": {},
   "outputs": [],
   "source": [
    "data = data.withColumn('diasemchuva', data.diasemchuva.cast(DecimalType(10, 5))) \\\n",
    "    .withColumn('precipitacao', data.precipitacao.cast(DecimalType(10, 5))) \\\n",
    "    .withColumn('riscofogo', data.riscofogo.cast(DecimalType(10, 5))) \\\n",
    "    .withColumn('latitude', data.latitude.cast(DecimalType(8, 5))) \\\n",
    "    .withColumn('longitude', data.longitude.cast(DecimalType(8, 5))) \\\n",
    "    .withColumn('frp', data.frp.cast(DecimalType(10, 5)))"
   ]
  },
  {
   "cell_type": "markdown",
   "metadata": {},
   "source": [
    "Printing the resulting table schema"
   ]
  },
  {
   "cell_type": "code",
   "execution_count": 9,
   "metadata": {},
   "outputs": [
    {
     "name": "stdout",
     "output_type": "stream",
     "text": [
      "root\n",
      " |-- datahora: string (nullable = true)\n",
      " |-- satelite: string (nullable = true)\n",
      " |-- pais: string (nullable = true)\n",
      " |-- estado: string (nullable = true)\n",
      " |-- municipio: string (nullable = true)\n",
      " |-- bioma: string (nullable = true)\n",
      " |-- diasemchuva: decimal(10,5) (nullable = true)\n",
      " |-- precipitacao: decimal(10,5) (nullable = true)\n",
      " |-- riscofogo: decimal(10,5) (nullable = true)\n",
      " |-- latitude: decimal(8,5) (nullable = true)\n",
      " |-- longitude: decimal(8,5) (nullable = true)\n",
      " |-- frp: decimal(10,5) (nullable = true)\n",
      "\n"
     ]
    }
   ],
   "source": [
    "data.printSchema()"
   ]
  },
  {
   "cell_type": "code",
   "execution_count": 10,
   "metadata": {},
   "outputs": [
    {
     "name": "stdout",
     "output_type": "stream",
     "text": [
      "+-------------------+--------+------+--------------+-------------------+--------------+-----------+------------+---------+---------+---------+----+\n",
      "|datahora           |satelite|pais  |estado        |municipio          |bioma         |diasemchuva|precipitacao|riscofogo|latitude |longitude|frp |\n",
      "+-------------------+--------+------+--------------+-------------------+--------------+-----------+------------+---------+---------+---------+----+\n",
      "|2010/01/01 15:40:00|AQUA_M-T|Brasil|SERGIPE       |JAPOATA            |Mata Atlantica|null       |null        |null     |-10.34700|-36.77700|null|\n",
      "|2010/01/01 15:41:00|AQUA_M-T|Brasil|PERNAMBUCO    |PESQUEIRA          |Caatinga      |null       |null        |null     |-8.44200 |-36.68300|null|\n",
      "|2010/01/01 15:41:00|AQUA_M-T|Brasil|SERGIPE       |PORTO DA FOLHA     |Caatinga      |null       |null        |null     |-9.86100 |-37.53200|null|\n",
      "|2010/01/01 15:41:00|AQUA_M-T|Brasil|PERNAMBUCO    |PESQUEIRA          |Caatinga      |null       |null        |null     |-8.44500 |-36.66700|null|\n",
      "|2010/01/01 17:14:00|AQUA_M-T|Brasil|SANTA CATARINA|SAO JOSE DO CERRITO|Mata Atlantica|null       |null        |null     |-27.54200|-50.80200|null|\n",
      "+-------------------+--------+------+--------------+-------------------+--------------+-----------+------------+---------+---------+---------+----+\n",
      "only showing top 5 rows\n",
      "\n"
     ]
    }
   ],
   "source": [
    "data.show(n=5, truncate=False)"
   ]
  },
  {
   "cell_type": "markdown",
   "metadata": {},
   "source": [
    "Interactive demonstration"
   ]
  },
  {
   "cell_type": "code",
   "execution_count": 11,
   "metadata": {},
   "outputs": [
    {
     "data": {
      "application/vnd.jupyter.widget-view+json": {
       "model_id": "24ec42397fa84d3dbef5fe9b7d7363f9",
       "version_major": 2,
       "version_minor": 0
      },
      "text/plain": [
       "interactive(children=(IntSlider(value=10, continuous_update=False, description='yes', max=30), Output()), _dom…"
      ]
     },
     "metadata": {},
     "output_type": "display_data"
    }
   ],
   "source": [
    "@interact(x=widgets.IntSlider(min=0, max=30, step=1, value=10, description='yes', continuous_update=False))\n",
    "def f(x):\n",
    "    return x"
   ]
  },
  {
   "cell_type": "code",
   "execution_count": 12,
   "metadata": {},
   "outputs": [
    {
     "data": {
      "application/vnd.jupyter.widget-view+json": {
       "model_id": "3bd8f1075ddf4a3c826eff42730fd2e6",
       "version_major": 2,
       "version_minor": 0
      },
      "text/plain": [
       "interactive(children=(IntSlider(value=5, continuous_update=False, description='yes', max=30), Output()), _dom_…"
      ]
     },
     "metadata": {},
     "output_type": "display_data"
    }
   ],
   "source": [
    "@interact(x=widgets.IntSlider(min=0, max=30, step=1, value=5, description='yes', continuous_update=False))\n",
    "def f(x):\n",
    "    return data.show(n=x, truncate=False)"
   ]
  },
  {
   "cell_type": "markdown",
   "metadata": {},
   "source": [
    "Writing data to *Kudu*"
   ]
  },
  {
   "cell_type": "code",
   "execution_count": 13,
   "metadata": {},
   "outputs": [
    {
     "name": "stderr",
     "output_type": "stream",
     "text": [
      "                                                                                \r"
     ]
    }
   ],
   "source": [
    "data.write.option('kudu.master', KUDU_MASTER).option('kudu.table', KUDU_TABLE).mode('append').format('kudu').save()"
   ]
  },
  {
   "cell_type": "markdown",
   "metadata": {},
   "source": [
    "Retriving data from *Kudu*"
   ]
  },
  {
   "cell_type": "code",
   "execution_count": 14,
   "metadata": {},
   "outputs": [
    {
     "data": {
      "text/html": [
       "<div>\n",
       "<style scoped>\n",
       "    .dataframe tbody tr th:only-of-type {\n",
       "        vertical-align: middle;\n",
       "    }\n",
       "\n",
       "    .dataframe tbody tr th {\n",
       "        vertical-align: top;\n",
       "    }\n",
       "\n",
       "    .dataframe thead th {\n",
       "        text-align: right;\n",
       "    }\n",
       "</style>\n",
       "<table border=\"1\" class=\"dataframe\">\n",
       "  <thead>\n",
       "    <tr style=\"text-align: right;\">\n",
       "      <th></th>\n",
       "      <th>datahora</th>\n",
       "      <th>latitude</th>\n",
       "      <th>longitude</th>\n",
       "      <th>satelite</th>\n",
       "      <th>pais</th>\n",
       "      <th>estado</th>\n",
       "      <th>municipio</th>\n",
       "      <th>bioma</th>\n",
       "      <th>diasemchuva</th>\n",
       "      <th>precipitacao</th>\n",
       "      <th>riscofogo</th>\n",
       "      <th>frp</th>\n",
       "    </tr>\n",
       "  </thead>\n",
       "  <tbody>\n",
       "    <tr>\n",
       "      <th>0</th>\n",
       "      <td>2012/11/05 16:30:00</td>\n",
       "      <td>-19.62800</td>\n",
       "      <td>-45.86800</td>\n",
       "      <td>AQUA_M-T</td>\n",
       "      <td>Brasil</td>\n",
       "      <td>MINAS GERAIS</td>\n",
       "      <td>ESTRELA DO INDAIA</td>\n",
       "      <td>Cerrado</td>\n",
       "      <td>None</td>\n",
       "      <td>None</td>\n",
       "      <td>None</td>\n",
       "      <td>None</td>\n",
       "    </tr>\n",
       "    <tr>\n",
       "      <th>1</th>\n",
       "      <td>2012/11/05 16:35:00</td>\n",
       "      <td>-2.80100</td>\n",
       "      <td>-49.29900</td>\n",
       "      <td>AQUA_M-T</td>\n",
       "      <td>Brasil</td>\n",
       "      <td>PARA</td>\n",
       "      <td>MOJU</td>\n",
       "      <td>Amazonia</td>\n",
       "      <td>None</td>\n",
       "      <td>None</td>\n",
       "      <td>None</td>\n",
       "      <td>None</td>\n",
       "    </tr>\n",
       "    <tr>\n",
       "      <th>2</th>\n",
       "      <td>2012/11/05 18:15:00</td>\n",
       "      <td>2.93700</td>\n",
       "      <td>-61.10800</td>\n",
       "      <td>AQUA_M-T</td>\n",
       "      <td>Brasil</td>\n",
       "      <td>RORAIMA</td>\n",
       "      <td>ALTO ALEGRE</td>\n",
       "      <td>Amazonia</td>\n",
       "      <td>None</td>\n",
       "      <td>None</td>\n",
       "      <td>None</td>\n",
       "      <td>None</td>\n",
       "    </tr>\n",
       "    <tr>\n",
       "      <th>3</th>\n",
       "      <td>2012/11/05 18:15:00</td>\n",
       "      <td>3.39900</td>\n",
       "      <td>-60.36300</td>\n",
       "      <td>AQUA_M-T</td>\n",
       "      <td>Brasil</td>\n",
       "      <td>RORAIMA</td>\n",
       "      <td>BOA VISTA</td>\n",
       "      <td>Amazonia</td>\n",
       "      <td>None</td>\n",
       "      <td>None</td>\n",
       "      <td>None</td>\n",
       "      <td>None</td>\n",
       "    </tr>\n",
       "    <tr>\n",
       "      <th>4</th>\n",
       "      <td>2012/11/06 15:37:00</td>\n",
       "      <td>-9.94000</td>\n",
       "      <td>-36.46900</td>\n",
       "      <td>AQUA_M-T</td>\n",
       "      <td>Brasil</td>\n",
       "      <td>ALAGOAS</td>\n",
       "      <td>JUNQUEIRO</td>\n",
       "      <td>Mata Atlantica</td>\n",
       "      <td>None</td>\n",
       "      <td>None</td>\n",
       "      <td>None</td>\n",
       "      <td>None</td>\n",
       "    </tr>\n",
       "    <tr>\n",
       "      <th>5</th>\n",
       "      <td>2012/11/06 15:37:00</td>\n",
       "      <td>-9.87300</td>\n",
       "      <td>-36.48900</td>\n",
       "      <td>AQUA_M-T</td>\n",
       "      <td>Brasil</td>\n",
       "      <td>ALAGOAS</td>\n",
       "      <td>JUNQUEIRO</td>\n",
       "      <td>Mata Atlantica</td>\n",
       "      <td>None</td>\n",
       "      <td>None</td>\n",
       "      <td>None</td>\n",
       "      <td>None</td>\n",
       "    </tr>\n",
       "    <tr>\n",
       "      <th>6</th>\n",
       "      <td>2012/11/06 15:37:00</td>\n",
       "      <td>-9.86500</td>\n",
       "      <td>-36.48500</td>\n",
       "      <td>AQUA_M-T</td>\n",
       "      <td>Brasil</td>\n",
       "      <td>ALAGOAS</td>\n",
       "      <td>JUNQUEIRO</td>\n",
       "      <td>Mata Atlantica</td>\n",
       "      <td>None</td>\n",
       "      <td>None</td>\n",
       "      <td>None</td>\n",
       "      <td>None</td>\n",
       "    </tr>\n",
       "    <tr>\n",
       "      <th>7</th>\n",
       "      <td>2012/11/06 15:37:00</td>\n",
       "      <td>-9.86000</td>\n",
       "      <td>-36.49100</td>\n",
       "      <td>AQUA_M-T</td>\n",
       "      <td>Brasil</td>\n",
       "      <td>ALAGOAS</td>\n",
       "      <td>JUNQUEIRO</td>\n",
       "      <td>Mata Atlantica</td>\n",
       "      <td>None</td>\n",
       "      <td>None</td>\n",
       "      <td>None</td>\n",
       "      <td>None</td>\n",
       "    </tr>\n",
       "    <tr>\n",
       "      <th>8</th>\n",
       "      <td>2012/11/06 15:37:00</td>\n",
       "      <td>-9.85100</td>\n",
       "      <td>-36.48700</td>\n",
       "      <td>AQUA_M-T</td>\n",
       "      <td>Brasil</td>\n",
       "      <td>ALAGOAS</td>\n",
       "      <td>JUNQUEIRO</td>\n",
       "      <td>Mata Atlantica</td>\n",
       "      <td>None</td>\n",
       "      <td>None</td>\n",
       "      <td>None</td>\n",
       "      <td>None</td>\n",
       "    </tr>\n",
       "    <tr>\n",
       "      <th>9</th>\n",
       "      <td>2012/11/06 15:37:00</td>\n",
       "      <td>-9.84600</td>\n",
       "      <td>-36.49200</td>\n",
       "      <td>AQUA_M-T</td>\n",
       "      <td>Brasil</td>\n",
       "      <td>ALAGOAS</td>\n",
       "      <td>JUNQUEIRO</td>\n",
       "      <td>Mata Atlantica</td>\n",
       "      <td>None</td>\n",
       "      <td>None</td>\n",
       "      <td>None</td>\n",
       "      <td>None</td>\n",
       "    </tr>\n",
       "    <tr>\n",
       "      <th>10</th>\n",
       "      <td>2012/11/06 15:37:00</td>\n",
       "      <td>-9.36100</td>\n",
       "      <td>-35.54800</td>\n",
       "      <td>AQUA_M-T</td>\n",
       "      <td>Brasil</td>\n",
       "      <td>ALAGOAS</td>\n",
       "      <td>BARRA DE SANTO ANTONIO</td>\n",
       "      <td>Mata Atlantica</td>\n",
       "      <td>None</td>\n",
       "      <td>None</td>\n",
       "      <td>None</td>\n",
       "      <td>None</td>\n",
       "    </tr>\n",
       "    <tr>\n",
       "      <th>11</th>\n",
       "      <td>2012/11/06 15:38:00</td>\n",
       "      <td>-9.60500</td>\n",
       "      <td>-38.25100</td>\n",
       "      <td>AQUA_M-T</td>\n",
       "      <td>Brasil</td>\n",
       "      <td>BAHIA</td>\n",
       "      <td>PAULO AFONSO</td>\n",
       "      <td>Caatinga</td>\n",
       "      <td>None</td>\n",
       "      <td>None</td>\n",
       "      <td>None</td>\n",
       "      <td>None</td>\n",
       "    </tr>\n",
       "    <tr>\n",
       "      <th>12</th>\n",
       "      <td>2012/11/06 15:38:00</td>\n",
       "      <td>-9.59500</td>\n",
       "      <td>-38.25900</td>\n",
       "      <td>AQUA_M-T</td>\n",
       "      <td>Brasil</td>\n",
       "      <td>BAHIA</td>\n",
       "      <td>PAULO AFONSO</td>\n",
       "      <td>Caatinga</td>\n",
       "      <td>None</td>\n",
       "      <td>None</td>\n",
       "      <td>None</td>\n",
       "      <td>None</td>\n",
       "    </tr>\n",
       "    <tr>\n",
       "      <th>13</th>\n",
       "      <td>2012/11/06 15:38:00</td>\n",
       "      <td>-9.30900</td>\n",
       "      <td>-35.76000</td>\n",
       "      <td>AQUA_M-T</td>\n",
       "      <td>Brasil</td>\n",
       "      <td>ALAGOAS</td>\n",
       "      <td>FLEXEIRAS</td>\n",
       "      <td>Mata Atlantica</td>\n",
       "      <td>None</td>\n",
       "      <td>None</td>\n",
       "      <td>None</td>\n",
       "      <td>None</td>\n",
       "    </tr>\n",
       "    <tr>\n",
       "      <th>14</th>\n",
       "      <td>2012/11/06 15:38:00</td>\n",
       "      <td>-7.84500</td>\n",
       "      <td>-38.68100</td>\n",
       "      <td>AQUA_M-T</td>\n",
       "      <td>Brasil</td>\n",
       "      <td>PERNAMBUCO</td>\n",
       "      <td>SAO JOSE DO BELMONTE</td>\n",
       "      <td>Caatinga</td>\n",
       "      <td>None</td>\n",
       "      <td>None</td>\n",
       "      <td>None</td>\n",
       "      <td>None</td>\n",
       "    </tr>\n",
       "    <tr>\n",
       "      <th>15</th>\n",
       "      <td>2012/11/06 15:38:00</td>\n",
       "      <td>-7.83200</td>\n",
       "      <td>-38.65600</td>\n",
       "      <td>AQUA_M-T</td>\n",
       "      <td>Brasil</td>\n",
       "      <td>PERNAMBUCO</td>\n",
       "      <td>SAO JOSE DO BELMONTE</td>\n",
       "      <td>Caatinga</td>\n",
       "      <td>None</td>\n",
       "      <td>None</td>\n",
       "      <td>None</td>\n",
       "      <td>None</td>\n",
       "    </tr>\n",
       "    <tr>\n",
       "      <th>16</th>\n",
       "      <td>2012/11/06 15:38:00</td>\n",
       "      <td>-7.71100</td>\n",
       "      <td>-35.78900</td>\n",
       "      <td>AQUA_M-T</td>\n",
       "      <td>Brasil</td>\n",
       "      <td>PARAIBA</td>\n",
       "      <td>UMBUZEIRO</td>\n",
       "      <td>Caatinga</td>\n",
       "      <td>None</td>\n",
       "      <td>None</td>\n",
       "      <td>None</td>\n",
       "      <td>None</td>\n",
       "    </tr>\n",
       "    <tr>\n",
       "      <th>17</th>\n",
       "      <td>2012/11/06 15:38:00</td>\n",
       "      <td>-7.06600</td>\n",
       "      <td>-39.71800</td>\n",
       "      <td>AQUA_M-T</td>\n",
       "      <td>Brasil</td>\n",
       "      <td>CEARA</td>\n",
       "      <td>NOVA OLINDA</td>\n",
       "      <td>Caatinga</td>\n",
       "      <td>None</td>\n",
       "      <td>None</td>\n",
       "      <td>None</td>\n",
       "      <td>None</td>\n",
       "    </tr>\n",
       "    <tr>\n",
       "      <th>18</th>\n",
       "      <td>2012/11/06 15:38:00</td>\n",
       "      <td>-6.10300</td>\n",
       "      <td>-38.51800</td>\n",
       "      <td>AQUA_M-T</td>\n",
       "      <td>Brasil</td>\n",
       "      <td>CEARA</td>\n",
       "      <td>PEREIRO</td>\n",
       "      <td>Caatinga</td>\n",
       "      <td>None</td>\n",
       "      <td>None</td>\n",
       "      <td>None</td>\n",
       "      <td>None</td>\n",
       "    </tr>\n",
       "    <tr>\n",
       "      <th>19</th>\n",
       "      <td>2012/11/06 15:38:00</td>\n",
       "      <td>-6.10000</td>\n",
       "      <td>-38.48900</td>\n",
       "      <td>AQUA_M-T</td>\n",
       "      <td>Brasil</td>\n",
       "      <td>CEARA</td>\n",
       "      <td>PEREIRO</td>\n",
       "      <td>Caatinga</td>\n",
       "      <td>None</td>\n",
       "      <td>None</td>\n",
       "      <td>None</td>\n",
       "      <td>None</td>\n",
       "    </tr>\n",
       "    <tr>\n",
       "      <th>20</th>\n",
       "      <td>2012/11/06 15:39:00</td>\n",
       "      <td>-4.53400</td>\n",
       "      <td>-38.78000</td>\n",
       "      <td>AQUA_M-T</td>\n",
       "      <td>Brasil</td>\n",
       "      <td>CEARA</td>\n",
       "      <td>BATURITE</td>\n",
       "      <td>Caatinga</td>\n",
       "      <td>None</td>\n",
       "      <td>None</td>\n",
       "      <td>None</td>\n",
       "      <td>None</td>\n",
       "    </tr>\n",
       "    <tr>\n",
       "      <th>21</th>\n",
       "      <td>2012/11/06 15:39:00</td>\n",
       "      <td>-4.05900</td>\n",
       "      <td>-38.84800</td>\n",
       "      <td>AQUA_M-T</td>\n",
       "      <td>Brasil</td>\n",
       "      <td>CEARA</td>\n",
       "      <td>MARANGUAPE</td>\n",
       "      <td>Caatinga</td>\n",
       "      <td>None</td>\n",
       "      <td>None</td>\n",
       "      <td>None</td>\n",
       "      <td>None</td>\n",
       "    </tr>\n",
       "    <tr>\n",
       "      <th>22</th>\n",
       "      <td>2012/11/06 15:39:00</td>\n",
       "      <td>-4.05700</td>\n",
       "      <td>-38.84100</td>\n",
       "      <td>AQUA_M-T</td>\n",
       "      <td>Brasil</td>\n",
       "      <td>CEARA</td>\n",
       "      <td>MARANGUAPE</td>\n",
       "      <td>Caatinga</td>\n",
       "      <td>None</td>\n",
       "      <td>None</td>\n",
       "      <td>None</td>\n",
       "      <td>None</td>\n",
       "    </tr>\n",
       "    <tr>\n",
       "      <th>23</th>\n",
       "      <td>2012/11/06 15:39:00</td>\n",
       "      <td>-3.71500</td>\n",
       "      <td>-39.63800</td>\n",
       "      <td>AQUA_M-T</td>\n",
       "      <td>Brasil</td>\n",
       "      <td>CEARA</td>\n",
       "      <td>ITAPAJE</td>\n",
       "      <td>Caatinga</td>\n",
       "      <td>None</td>\n",
       "      <td>None</td>\n",
       "      <td>None</td>\n",
       "      <td>None</td>\n",
       "    </tr>\n",
       "    <tr>\n",
       "      <th>24</th>\n",
       "      <td>2012/11/06 15:39:00</td>\n",
       "      <td>-3.70600</td>\n",
       "      <td>-39.63400</td>\n",
       "      <td>AQUA_M-T</td>\n",
       "      <td>Brasil</td>\n",
       "      <td>CEARA</td>\n",
       "      <td>ITAPAJE</td>\n",
       "      <td>Caatinga</td>\n",
       "      <td>None</td>\n",
       "      <td>None</td>\n",
       "      <td>None</td>\n",
       "      <td>None</td>\n",
       "    </tr>\n",
       "    <tr>\n",
       "      <th>25</th>\n",
       "      <td>2012/11/06 17:10:00</td>\n",
       "      <td>-31.89800</td>\n",
       "      <td>-53.16500</td>\n",
       "      <td>AQUA_M-T</td>\n",
       "      <td>Brasil</td>\n",
       "      <td>RIO GRANDE DO SUL</td>\n",
       "      <td>HERVAL</td>\n",
       "      <td>Pampa</td>\n",
       "      <td>None</td>\n",
       "      <td>None</td>\n",
       "      <td>None</td>\n",
       "      <td>None</td>\n",
       "    </tr>\n",
       "    <tr>\n",
       "      <th>26</th>\n",
       "      <td>2012/11/06 17:10:00</td>\n",
       "      <td>-30.42900</td>\n",
       "      <td>-52.20600</td>\n",
       "      <td>AQUA_M-T</td>\n",
       "      <td>Brasil</td>\n",
       "      <td>RIO GRANDE DO SUL</td>\n",
       "      <td>PANTANO GRANDE</td>\n",
       "      <td>Pampa</td>\n",
       "      <td>None</td>\n",
       "      <td>None</td>\n",
       "      <td>None</td>\n",
       "      <td>None</td>\n",
       "    </tr>\n",
       "    <tr>\n",
       "      <th>27</th>\n",
       "      <td>2012/11/06 17:10:00</td>\n",
       "      <td>-30.42700</td>\n",
       "      <td>-52.19300</td>\n",
       "      <td>AQUA_M-T</td>\n",
       "      <td>Brasil</td>\n",
       "      <td>RIO GRANDE DO SUL</td>\n",
       "      <td>PANTANO GRANDE</td>\n",
       "      <td>Pampa</td>\n",
       "      <td>None</td>\n",
       "      <td>None</td>\n",
       "      <td>None</td>\n",
       "      <td>None</td>\n",
       "    </tr>\n",
       "    <tr>\n",
       "      <th>28</th>\n",
       "      <td>2012/11/06 17:10:00</td>\n",
       "      <td>-30.21600</td>\n",
       "      <td>-51.77300</td>\n",
       "      <td>AQUA_M-T</td>\n",
       "      <td>Brasil</td>\n",
       "      <td>RIO GRANDE DO SUL</td>\n",
       "      <td>ARROIO DOS RATOS</td>\n",
       "      <td>Pampa</td>\n",
       "      <td>None</td>\n",
       "      <td>None</td>\n",
       "      <td>None</td>\n",
       "      <td>None</td>\n",
       "    </tr>\n",
       "    <tr>\n",
       "      <th>29</th>\n",
       "      <td>2012/11/06 17:10:00</td>\n",
       "      <td>-30.21200</td>\n",
       "      <td>-51.76800</td>\n",
       "      <td>AQUA_M-T</td>\n",
       "      <td>Brasil</td>\n",
       "      <td>RIO GRANDE DO SUL</td>\n",
       "      <td>ARROIO DOS RATOS</td>\n",
       "      <td>Pampa</td>\n",
       "      <td>None</td>\n",
       "      <td>None</td>\n",
       "      <td>None</td>\n",
       "      <td>None</td>\n",
       "    </tr>\n",
       "  </tbody>\n",
       "</table>\n",
       "</div>"
      ],
      "text/plain": [
       "               datahora   latitude  longitude  satelite    pais  \\\n",
       "0   2012/11/05 16:30:00  -19.62800  -45.86800  AQUA_M-T  Brasil   \n",
       "1   2012/11/05 16:35:00   -2.80100  -49.29900  AQUA_M-T  Brasil   \n",
       "2   2012/11/05 18:15:00    2.93700  -61.10800  AQUA_M-T  Brasil   \n",
       "3   2012/11/05 18:15:00    3.39900  -60.36300  AQUA_M-T  Brasil   \n",
       "4   2012/11/06 15:37:00   -9.94000  -36.46900  AQUA_M-T  Brasil   \n",
       "5   2012/11/06 15:37:00   -9.87300  -36.48900  AQUA_M-T  Brasil   \n",
       "6   2012/11/06 15:37:00   -9.86500  -36.48500  AQUA_M-T  Brasil   \n",
       "7   2012/11/06 15:37:00   -9.86000  -36.49100  AQUA_M-T  Brasil   \n",
       "8   2012/11/06 15:37:00   -9.85100  -36.48700  AQUA_M-T  Brasil   \n",
       "9   2012/11/06 15:37:00   -9.84600  -36.49200  AQUA_M-T  Brasil   \n",
       "10  2012/11/06 15:37:00   -9.36100  -35.54800  AQUA_M-T  Brasil   \n",
       "11  2012/11/06 15:38:00   -9.60500  -38.25100  AQUA_M-T  Brasil   \n",
       "12  2012/11/06 15:38:00   -9.59500  -38.25900  AQUA_M-T  Brasil   \n",
       "13  2012/11/06 15:38:00   -9.30900  -35.76000  AQUA_M-T  Brasil   \n",
       "14  2012/11/06 15:38:00   -7.84500  -38.68100  AQUA_M-T  Brasil   \n",
       "15  2012/11/06 15:38:00   -7.83200  -38.65600  AQUA_M-T  Brasil   \n",
       "16  2012/11/06 15:38:00   -7.71100  -35.78900  AQUA_M-T  Brasil   \n",
       "17  2012/11/06 15:38:00   -7.06600  -39.71800  AQUA_M-T  Brasil   \n",
       "18  2012/11/06 15:38:00   -6.10300  -38.51800  AQUA_M-T  Brasil   \n",
       "19  2012/11/06 15:38:00   -6.10000  -38.48900  AQUA_M-T  Brasil   \n",
       "20  2012/11/06 15:39:00   -4.53400  -38.78000  AQUA_M-T  Brasil   \n",
       "21  2012/11/06 15:39:00   -4.05900  -38.84800  AQUA_M-T  Brasil   \n",
       "22  2012/11/06 15:39:00   -4.05700  -38.84100  AQUA_M-T  Brasil   \n",
       "23  2012/11/06 15:39:00   -3.71500  -39.63800  AQUA_M-T  Brasil   \n",
       "24  2012/11/06 15:39:00   -3.70600  -39.63400  AQUA_M-T  Brasil   \n",
       "25  2012/11/06 17:10:00  -31.89800  -53.16500  AQUA_M-T  Brasil   \n",
       "26  2012/11/06 17:10:00  -30.42900  -52.20600  AQUA_M-T  Brasil   \n",
       "27  2012/11/06 17:10:00  -30.42700  -52.19300  AQUA_M-T  Brasil   \n",
       "28  2012/11/06 17:10:00  -30.21600  -51.77300  AQUA_M-T  Brasil   \n",
       "29  2012/11/06 17:10:00  -30.21200  -51.76800  AQUA_M-T  Brasil   \n",
       "\n",
       "               estado               municipio           bioma diasemchuva  \\\n",
       "0        MINAS GERAIS       ESTRELA DO INDAIA         Cerrado        None   \n",
       "1                PARA                    MOJU        Amazonia        None   \n",
       "2             RORAIMA             ALTO ALEGRE        Amazonia        None   \n",
       "3             RORAIMA               BOA VISTA        Amazonia        None   \n",
       "4             ALAGOAS               JUNQUEIRO  Mata Atlantica        None   \n",
       "5             ALAGOAS               JUNQUEIRO  Mata Atlantica        None   \n",
       "6             ALAGOAS               JUNQUEIRO  Mata Atlantica        None   \n",
       "7             ALAGOAS               JUNQUEIRO  Mata Atlantica        None   \n",
       "8             ALAGOAS               JUNQUEIRO  Mata Atlantica        None   \n",
       "9             ALAGOAS               JUNQUEIRO  Mata Atlantica        None   \n",
       "10            ALAGOAS  BARRA DE SANTO ANTONIO  Mata Atlantica        None   \n",
       "11              BAHIA            PAULO AFONSO        Caatinga        None   \n",
       "12              BAHIA            PAULO AFONSO        Caatinga        None   \n",
       "13            ALAGOAS               FLEXEIRAS  Mata Atlantica        None   \n",
       "14         PERNAMBUCO    SAO JOSE DO BELMONTE        Caatinga        None   \n",
       "15         PERNAMBUCO    SAO JOSE DO BELMONTE        Caatinga        None   \n",
       "16            PARAIBA               UMBUZEIRO        Caatinga        None   \n",
       "17              CEARA             NOVA OLINDA        Caatinga        None   \n",
       "18              CEARA                 PEREIRO        Caatinga        None   \n",
       "19              CEARA                 PEREIRO        Caatinga        None   \n",
       "20              CEARA                BATURITE        Caatinga        None   \n",
       "21              CEARA              MARANGUAPE        Caatinga        None   \n",
       "22              CEARA              MARANGUAPE        Caatinga        None   \n",
       "23              CEARA                 ITAPAJE        Caatinga        None   \n",
       "24              CEARA                 ITAPAJE        Caatinga        None   \n",
       "25  RIO GRANDE DO SUL                  HERVAL           Pampa        None   \n",
       "26  RIO GRANDE DO SUL          PANTANO GRANDE           Pampa        None   \n",
       "27  RIO GRANDE DO SUL          PANTANO GRANDE           Pampa        None   \n",
       "28  RIO GRANDE DO SUL        ARROIO DOS RATOS           Pampa        None   \n",
       "29  RIO GRANDE DO SUL        ARROIO DOS RATOS           Pampa        None   \n",
       "\n",
       "   precipitacao riscofogo   frp  \n",
       "0          None      None  None  \n",
       "1          None      None  None  \n",
       "2          None      None  None  \n",
       "3          None      None  None  \n",
       "4          None      None  None  \n",
       "5          None      None  None  \n",
       "6          None      None  None  \n",
       "7          None      None  None  \n",
       "8          None      None  None  \n",
       "9          None      None  None  \n",
       "10         None      None  None  \n",
       "11         None      None  None  \n",
       "12         None      None  None  \n",
       "13         None      None  None  \n",
       "14         None      None  None  \n",
       "15         None      None  None  \n",
       "16         None      None  None  \n",
       "17         None      None  None  \n",
       "18         None      None  None  \n",
       "19         None      None  None  \n",
       "20         None      None  None  \n",
       "21         None      None  None  \n",
       "22         None      None  None  \n",
       "23         None      None  None  \n",
       "24         None      None  None  \n",
       "25         None      None  None  \n",
       "26         None      None  None  \n",
       "27         None      None  None  \n",
       "28         None      None  None  \n",
       "29         None      None  None  "
      ]
     },
     "execution_count": 14,
     "metadata": {},
     "output_type": "execute_result"
    }
   ],
   "source": [
    "#spark.sql('SELECT * FROM queimada LIMIT 30').show()\n",
    "spark.sql('SELECT * FROM queimada LIMIT 30').toPandas()"
   ]
  },
  {
   "cell_type": "markdown",
   "metadata": {},
   "source": [
    "QUERY: Get all biomes"
   ]
  },
  {
   "cell_type": "code",
   "execution_count": 15,
   "metadata": {},
   "outputs": [
    {
     "name": "stderr",
     "output_type": "stream",
     "text": [
      "                                                                                \r"
     ]
    },
    {
     "name": "stdout",
     "output_type": "stream",
     "text": [
      "+--------------+\n",
      "|         bioma|\n",
      "+--------------+\n",
      "|Mata Atlantica|\n",
      "|         Pampa|\n",
      "|      Pantanal|\n",
      "|      Amazonia|\n",
      "|       Cerrado|\n",
      "|      Caatinga|\n",
      "+--------------+\n",
      "\n",
      "CPU times: user 6.76 ms, sys: 3.49 ms, total: 10.3 ms\n",
      "Wall time: 5.43 s\n"
     ]
    }
   ],
   "source": [
    "%%time\n",
    "kudu.select('bioma').distinct().show()"
   ]
  },
  {
   "cell_type": "markdown",
   "metadata": {},
   "source": [
    "QUERY: Count wildfires on Amazonia for each municipality which ocurred between 2019/01/01 and 2019/09/05, ordered by count."
   ]
  },
  {
   "cell_type": "code",
   "execution_count": 16,
   "metadata": {},
   "outputs": [
    {
     "name": "stderr",
     "output_type": "stream",
     "text": [
      "[Stage 37:===========================================>          (162 + 4) / 200]\r"
     ]
    },
    {
     "name": "stdout",
     "output_type": "stream",
     "text": [
      "+------------------+-----+\n",
      "|         municipio|count|\n",
      "+------------------+-----+\n",
      "|          ALTAMIRA| 3007|\n",
      "|SAO FELIX DO XINGU| 2560|\n",
      "|       PORTO VELHO| 2465|\n",
      "|              APUI| 2032|\n",
      "|            LABREA| 1822|\n",
      "|    NOVO PROGRESSO| 1797|\n",
      "|           COLNIZA| 1558|\n",
      "|         CARACARAI| 1379|\n",
      "|          ITAITUBA|  978|\n",
      "|     NOVO ARIPUANA|  936|\n",
      "|             FEIJO|  828|\n",
      "|       NOVA MAMORE|  772|\n",
      "|          MANICORE|  752|\n",
      "|           CUJUBIM|  693|\n",
      "|      BOCA DO ACRE|  688|\n",
      "|CANDEIAS DO JAMARI|  677|\n",
      "|          ARIPUANA|  652|\n",
      "|           MUCAJAI|  611|\n",
      "|      JACAREACANGA|  585|\n",
      "|          TARAUACA|  567|\n",
      "+------------------+-----+\n",
      "only showing top 20 rows\n",
      "\n",
      "CPU times: user 9.07 ms, sys: 6.24 ms, total: 15.3 ms\n",
      "Wall time: 3.27 s\n"
     ]
    },
    {
     "name": "stderr",
     "output_type": "stream",
     "text": [
      "                                                                                \r"
     ]
    }
   ],
   "source": [
    "%%time\n",
    "kudu.filter(('2019/01/01' <= kudu.datahora) & (kudu.datahora <= '2019/09/05') & (kudu.bioma == 'Amazonia')).groupBy('municipio').count().orderBy(col('count').desc()).show()"
   ]
  },
  {
   "cell_type": "code",
   "execution_count": 17,
   "metadata": {},
   "outputs": [],
   "source": [
    "#sc.stop()"
   ]
  }
 ],
 "metadata": {
  "kernelspec": {
   "display_name": "Python 3 (ipykernel)",
   "language": "python",
   "name": "python3"
  },
  "language_info": {
   "codemirror_mode": {
    "name": "ipython",
    "version": 3
   },
   "file_extension": ".py",
   "mimetype": "text/x-python",
   "name": "python",
   "nbconvert_exporter": "python",
   "pygments_lexer": "ipython3",
   "version": "3.9.6"
  }
 },
 "nbformat": 4,
 "nbformat_minor": 4
}
